{
 "cells": [
  {
   "cell_type": "code",
   "execution_count": 1,
   "metadata": {},
   "outputs": [],
   "source": [
    "import pandas as pd\n",
    "import matplotlib.pyplot as plt\n",
    "import numpy as np\n",
    "import seaborn as sns\n",
    "import os\n",
    "from shutil import rmtree"
   ]
  },
  {
   "cell_type": "code",
   "execution_count": 3,
   "metadata": {},
   "outputs": [
    {
     "name": "stdout",
     "output_type": "stream",
     "text": [
      "(6939, 2)\n",
      "Index(['id', 'Hardness'], dtype='object')\n",
      "<class 'pandas.core.frame.DataFrame'>\n",
      "RangeIndex: 6939 entries, 0 to 6938\n",
      "Data columns (total 2 columns):\n",
      " #   Column    Non-Null Count  Dtype  \n",
      "---  ------    --------------  -----  \n",
      " 0   id        6939 non-null   int64  \n",
      " 1   Hardness  6939 non-null   float64\n",
      "dtypes: float64(1), int64(1)\n",
      "memory usage: 108.5 KB\n",
      "None\n",
      "id          0\n",
      "Hardness    0\n",
      "dtype: int64\n",
      "      id  Hardness\n",
      "0  10407  2.590781\n",
      "1  10408  3.812057\n",
      "2  10409  5.847423\n",
      "3  10410  5.004792\n",
      "4  10411  5.706971\n"
     ]
    }
   ],
   "source": [
    "csv_file = \"result_043.csv\"\n",
    "\n",
    "data = pd.read_csv(csv_file)\n",
    "\n",
    "print(data.shape)\n",
    "print(data.columns)\n",
    "print(data.info())\n",
    "print(data.isnull().sum().sort_values(ascending=False))\n",
    "print(data.head())"
   ]
  }
 ],
 "metadata": {
  "kernelspec": {
   "display_name": ".Kaggle",
   "language": "python",
   "name": "python3"
  },
  "language_info": {
   "codemirror_mode": {
    "name": "ipython",
    "version": 3
   },
   "file_extension": ".py",
   "mimetype": "text/x-python",
   "name": "python",
   "nbconvert_exporter": "python",
   "pygments_lexer": "ipython3",
   "version": "3.11.0"
  }
 },
 "nbformat": 4,
 "nbformat_minor": 2
}
