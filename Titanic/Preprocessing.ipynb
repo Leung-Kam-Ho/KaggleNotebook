{
 "cells": [
  {
   "cell_type": "code",
   "execution_count": 1,
   "metadata": {},
   "outputs": [
    {
     "name": "stdout",
     "output_type": "stream",
     "text": [
      "Requirement already satisfied: pandas in /Users/fx7707/.Kaggle/lib/python3.11/site-packages (2.1.2)\n",
      "Requirement already satisfied: matplotlib in /Users/fx7707/.Kaggle/lib/python3.11/site-packages (3.8.1)\n",
      "Requirement already satisfied: numpy in /Users/fx7707/.Kaggle/lib/python3.11/site-packages (1.26.1)\n",
      "Requirement already satisfied: python-dateutil>=2.8.2 in /Users/fx7707/.Kaggle/lib/python3.11/site-packages (from pandas) (2.8.2)\n",
      "Requirement already satisfied: pytz>=2020.1 in /Users/fx7707/.Kaggle/lib/python3.11/site-packages (from pandas) (2023.3.post1)\n",
      "Requirement already satisfied: tzdata>=2022.1 in /Users/fx7707/.Kaggle/lib/python3.11/site-packages (from pandas) (2023.3)\n",
      "Requirement already satisfied: contourpy>=1.0.1 in /Users/fx7707/.Kaggle/lib/python3.11/site-packages (from matplotlib) (1.2.0)\n",
      "Requirement already satisfied: cycler>=0.10 in /Users/fx7707/.Kaggle/lib/python3.11/site-packages (from matplotlib) (0.12.1)\n",
      "Requirement already satisfied: fonttools>=4.22.0 in /Users/fx7707/.Kaggle/lib/python3.11/site-packages (from matplotlib) (4.44.0)\n",
      "Requirement already satisfied: kiwisolver>=1.3.1 in /Users/fx7707/.Kaggle/lib/python3.11/site-packages (from matplotlib) (1.4.5)\n",
      "Requirement already satisfied: packaging>=20.0 in /Users/fx7707/.Kaggle/lib/python3.11/site-packages (from matplotlib) (23.2)\n",
      "Requirement already satisfied: pillow>=8 in /Users/fx7707/.Kaggle/lib/python3.11/site-packages (from matplotlib) (10.1.0)\n",
      "Requirement already satisfied: pyparsing>=2.3.1 in /Users/fx7707/.Kaggle/lib/python3.11/site-packages (from matplotlib) (3.1.1)\n",
      "Requirement already satisfied: six>=1.5 in /Users/fx7707/.Kaggle/lib/python3.11/site-packages (from python-dateutil>=2.8.2->pandas) (1.16.0)\n",
      "\n",
      "\u001b[1m[\u001b[0m\u001b[34;49mnotice\u001b[0m\u001b[1;39;49m]\u001b[0m\u001b[39;49m A new release of pip available: \u001b[0m\u001b[31;49m22.3\u001b[0m\u001b[39;49m -> \u001b[0m\u001b[32;49m23.3.1\u001b[0m\n",
      "\u001b[1m[\u001b[0m\u001b[34;49mnotice\u001b[0m\u001b[1;39;49m]\u001b[0m\u001b[39;49m To update, run: \u001b[0m\u001b[32;49mpip install --upgrade pip\u001b[0m\n",
      "Note: you may need to restart the kernel to use updated packages.\n"
     ]
    }
   ],
   "source": [
    "%pip install pandas matplotlib numpy"
   ]
  },
  {
   "cell_type": "code",
   "execution_count": 2,
   "metadata": {},
   "outputs": [],
   "source": [
    "import pandas as pd\n",
    "import matplotlib.pyplot as plt\n",
    "import numpy as np\n"
   ]
  },
  {
   "cell_type": "code",
   "execution_count": 3,
   "metadata": {},
   "outputs": [
    {
     "name": "stdout",
     "output_type": "stream",
     "text": [
      "(891, 6)\n",
      "Index(['PassengerId', 'Survived', 'Pclass', 'Sex', 'SibSp', 'Parch'], dtype='object')\n",
      "<class 'pandas.core.frame.DataFrame'>\n",
      "RangeIndex: 891 entries, 0 to 890\n",
      "Data columns (total 6 columns):\n",
      " #   Column       Non-Null Count  Dtype \n",
      "---  ------       --------------  ----- \n",
      " 0   PassengerId  891 non-null    int64 \n",
      " 1   Survived     891 non-null    int64 \n",
      " 2   Pclass       891 non-null    int64 \n",
      " 3   Sex          891 non-null    object\n",
      " 4   SibSp        891 non-null    int64 \n",
      " 5   Parch        891 non-null    int64 \n",
      "dtypes: int64(5), object(1)\n",
      "memory usage: 41.9+ KB\n",
      "None\n",
      "PassengerId    0\n",
      "Survived       0\n",
      "Pclass         0\n",
      "Sex            0\n",
      "SibSp          0\n",
      "Parch          0\n",
      "dtype: int64\n"
     ]
    }
   ],
   "source": [
    "csv_file = \"./dataset/train.csv\"\n",
    "test_csv_file = \"./dataset/test.csv\"\n",
    "\n",
    "\n",
    "train_df = pd.read_csv(csv_file)\n",
    "test_df = pd.read_csv(test_csv_file)\n",
    "dropList = [\"Ticket\",\"Fare\",\"Cabin\",\"Embarked\",\"Name\",\"Age\"]\n",
    "train_df = train_df.drop(dropList, axis=1)\n",
    "test_df = test_df.drop(dropList, axis=1)\n",
    "print(train_df.shape)\n",
    "print( train_df.columns)\n",
    "print(train_df.info())\n",
    "# print(train_df.isnull())\n",
    "print(train_df.isnull().sum().sort_values(ascending=False))\n",
    "# print(df.head())"
   ]
  },
  {
   "cell_type": "code",
   "execution_count": 4,
   "metadata": {},
   "outputs": [],
   "source": [
    "def onehot(df : pd.DataFrame,keyName : str) -> pd.DataFrame:\n",
    "    for key in df[keyName].value_counts().index:\n",
    "        df[f\"{keyName}_{key}\"] = df[keyName] == key\n",
    "        df[f\"{keyName}_{key}\"] = df[f\"{keyName}_{key}\"].astype(int)\n",
    "    return df.drop(keyName, axis=1)\n",
    "def mapValue(df : pd.DataFrame,keyName : str) -> pd.DataFrame:\n",
    "    mapDict = {}\n",
    "    for idx, key in enumerate(df[keyName].value_counts().index):\n",
    "        mapDict[key] = idx\n",
    "    print(mapDict)\n",
    "    df[keyName] = df[keyName].map(mapDict)\n",
    "    return df"
   ]
  },
  {
   "cell_type": "code",
   "execution_count": 5,
   "metadata": {},
   "outputs": [],
   "source": [
    "\n",
    "def processData(df, isTrain = True):\n",
    "    if isTrain:\n",
    "        label = \"Survived\"\n",
    "        df[label] = df[label].astype(int)\n",
    "        df = df.drop([\"PassengerId\"], axis=1)\n",
    "    # df[\"Age\"] = df[\"Age\"].fillna(df[\"Age\"].mean())\n",
    "    # df['VIP'] = df['VIP'].astype(int)\n",
    "    # df['CryoSleep'] = df['CryoSleep'].astype(int)\n",
    "    df = mapValue(df,\"Sex\")\n",
    "    # df = onehot(df,\"Parch\")\n",
    "    df = onehot(df,\"SibSp\")\n",
    "    # df = onehot(df,\"Pclass\")\n",
    "    return df\n",
    "\n"
   ]
  },
  {
   "cell_type": "code",
   "execution_count": 6,
   "metadata": {},
   "outputs": [
    {
     "name": "stdout",
     "output_type": "stream",
     "text": [
      "{'male': 0, 'female': 1}\n",
      "{'male': 0, 'female': 1}\n"
     ]
    }
   ],
   "source": [
    "train_df = processData(train_df, isTrain=True)\n",
    "train_null_df = processData(test_df, isTrain=False)\n",
    "train_df.to_csv(\"./dataset/train_preprocessed.csv\", index=False)\n",
    "train_null_df.to_csv(\"./dataset/test_preprocessed.csv\", index=False)"
   ]
  }
 ],
 "metadata": {
  "kernelspec": {
   "display_name": ".venv",
   "language": "python",
   "name": "python3"
  },
  "language_info": {
   "codemirror_mode": {
    "name": "ipython",
    "version": 3
   },
   "file_extension": ".py",
   "mimetype": "text/x-python",
   "name": "python",
   "nbconvert_exporter": "python",
   "pygments_lexer": "ipython3",
   "version": "3.11.0"
  }
 },
 "nbformat": 4,
 "nbformat_minor": 2
}
