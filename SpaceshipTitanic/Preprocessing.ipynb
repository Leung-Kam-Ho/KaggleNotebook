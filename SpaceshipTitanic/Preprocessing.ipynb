{
 "cells": [
  {
   "cell_type": "code",
   "execution_count": 1,
   "metadata": {},
   "outputs": [
    {
     "name": "stdout",
     "output_type": "stream",
     "text": [
      "Requirement already satisfied: pandas in /Users/fx7707/.Kaggle/lib/python3.11/site-packages (2.1.2)\n",
      "Requirement already satisfied: matplotlib in /Users/fx7707/.Kaggle/lib/python3.11/site-packages (3.8.1)\n",
      "Requirement already satisfied: numpy in /Users/fx7707/.Kaggle/lib/python3.11/site-packages (1.26.1)\n",
      "Requirement already satisfied: python-dateutil>=2.8.2 in /Users/fx7707/.Kaggle/lib/python3.11/site-packages (from pandas) (2.8.2)\n",
      "Requirement already satisfied: pytz>=2020.1 in /Users/fx7707/.Kaggle/lib/python3.11/site-packages (from pandas) (2023.3.post1)\n",
      "Requirement already satisfied: tzdata>=2022.1 in /Users/fx7707/.Kaggle/lib/python3.11/site-packages (from pandas) (2023.3)\n",
      "Requirement already satisfied: contourpy>=1.0.1 in /Users/fx7707/.Kaggle/lib/python3.11/site-packages (from matplotlib) (1.2.0)\n",
      "Requirement already satisfied: cycler>=0.10 in /Users/fx7707/.Kaggle/lib/python3.11/site-packages (from matplotlib) (0.12.1)\n",
      "Requirement already satisfied: fonttools>=4.22.0 in /Users/fx7707/.Kaggle/lib/python3.11/site-packages (from matplotlib) (4.44.0)\n",
      "Requirement already satisfied: kiwisolver>=1.3.1 in /Users/fx7707/.Kaggle/lib/python3.11/site-packages (from matplotlib) (1.4.5)\n",
      "Requirement already satisfied: packaging>=20.0 in /Users/fx7707/.Kaggle/lib/python3.11/site-packages (from matplotlib) (23.2)\n",
      "Requirement already satisfied: pillow>=8 in /Users/fx7707/.Kaggle/lib/python3.11/site-packages (from matplotlib) (10.1.0)\n",
      "Requirement already satisfied: pyparsing>=2.3.1 in /Users/fx7707/.Kaggle/lib/python3.11/site-packages (from matplotlib) (3.1.1)\n",
      "Requirement already satisfied: six>=1.5 in /Users/fx7707/.Kaggle/lib/python3.11/site-packages (from python-dateutil>=2.8.2->pandas) (1.16.0)\n",
      "\n",
      "\u001b[1m[\u001b[0m\u001b[34;49mnotice\u001b[0m\u001b[1;39;49m]\u001b[0m\u001b[39;49m A new release of pip available: \u001b[0m\u001b[31;49m22.3\u001b[0m\u001b[39;49m -> \u001b[0m\u001b[32;49m23.3.1\u001b[0m\n",
      "\u001b[1m[\u001b[0m\u001b[34;49mnotice\u001b[0m\u001b[1;39;49m]\u001b[0m\u001b[39;49m To update, run: \u001b[0m\u001b[32;49mpip install --upgrade pip\u001b[0m\n",
      "Note: you may need to restart the kernel to use updated packages.\n"
     ]
    }
   ],
   "source": [
    "%pip install pandas matplotlib numpy"
   ]
  },
  {
   "cell_type": "code",
   "execution_count": 2,
   "metadata": {},
   "outputs": [],
   "source": [
    "import pandas as pd\n",
    "import matplotlib.pyplot as plt\n",
    "import numpy as np\n"
   ]
  },
  {
   "cell_type": "code",
   "execution_count": 3,
   "metadata": {},
   "outputs": [
    {
     "name": "stdout",
     "output_type": "stream",
     "text": [
      "(8693, 7)\n",
      "Index(['PassengerId', 'HomePlanet', 'CryoSleep', 'Cabin', 'Destination', 'VIP',\n",
      "       'Transported'],\n",
      "      dtype='object')\n",
      "<class 'pandas.core.frame.DataFrame'>\n",
      "RangeIndex: 8693 entries, 0 to 8692\n",
      "Data columns (total 7 columns):\n",
      " #   Column       Non-Null Count  Dtype \n",
      "---  ------       --------------  ----- \n",
      " 0   PassengerId  8693 non-null   object\n",
      " 1   HomePlanet   8492 non-null   object\n",
      " 2   CryoSleep    8476 non-null   object\n",
      " 3   Cabin        8494 non-null   object\n",
      " 4   Destination  8511 non-null   object\n",
      " 5   VIP          8490 non-null   object\n",
      " 6   Transported  8693 non-null   bool  \n",
      "dtypes: bool(1), object(6)\n",
      "memory usage: 416.1+ KB\n",
      "None\n",
      "CryoSleep      217\n",
      "VIP            203\n",
      "HomePlanet     201\n",
      "Cabin          199\n",
      "Destination    182\n",
      "PassengerId      0\n",
      "Transported      0\n",
      "dtype: int64\n"
     ]
    }
   ],
   "source": [
    "csv_file = \"./dataset/train.csv\"\n",
    "test_csv_file = \"./dataset/test.csv\"\n",
    "train_raw_df = pd.read_csv(csv_file)\n",
    "train_df = pd.read_csv(csv_file)\n",
    "noise_df = pd.read_csv(csv_file)\n",
    "train_null_df = pd.read_csv(test_csv_file)\n",
    "dropList = [\"Name\",\"FoodCourt\",\"RoomService\",'ShoppingMall','Spa', 'VRDeck',\"Age\"]\n",
    "train_df = train_df.drop(dropList, axis=1)\n",
    "train_null_df = train_null_df.drop(dropList, axis=1)\n",
    "train_raw_df = train_raw_df.drop(dropList, axis=1)\n",
    "noise_df = noise_df.drop(dropList, axis=1)\n",
    "# train_df = train_df.drop(\"Transported\", axis=1)\n",
    "print(train_df.shape)\n",
    "print( train_df.columns)\n",
    "print(train_df.info())\n",
    "# print(train_df.isnull())\n",
    "print(train_df.isnull().sum().sort_values(ascending=False))\n",
    "# print(df.head())"
   ]
  },
  {
   "cell_type": "code",
   "execution_count": 4,
   "metadata": {},
   "outputs": [
    {
     "name": "stdout",
     "output_type": "stream",
     "text": [
      "PassengerId    0\n",
      "HomePlanet     0\n",
      "CryoSleep      0\n",
      "Cabin          0\n",
      "Destination    0\n",
      "VIP            0\n",
      "Transported    0\n",
      "dtype: int64\n",
      "(7736, 7)\n",
      "Index(['PassengerId', 'HomePlanet', 'CryoSleep', 'Cabin', 'Destination', 'VIP',\n",
      "       'Transported'],\n",
      "      dtype='object')\n",
      "<class 'pandas.core.frame.DataFrame'>\n",
      "Index: 7736 entries, 0 to 8692\n",
      "Data columns (total 7 columns):\n",
      " #   Column       Non-Null Count  Dtype \n",
      "---  ------       --------------  ----- \n",
      " 0   PassengerId  7736 non-null   object\n",
      " 1   HomePlanet   7736 non-null   object\n",
      " 2   CryoSleep    7736 non-null   object\n",
      " 3   Cabin        7736 non-null   object\n",
      " 4   Destination  7736 non-null   object\n",
      " 5   VIP          7736 non-null   object\n",
      " 6   Transported  7736 non-null   bool  \n",
      "dtypes: bool(1), object(6)\n",
      "memory usage: 430.6+ KB\n",
      "None\n",
      "PassengerId    0\n",
      "HomePlanet     0\n",
      "CryoSleep      0\n",
      "Cabin          0\n",
      "Destination    0\n",
      "VIP            0\n",
      "Transported    0\n",
      "dtype: int64\n"
     ]
    }
   ],
   "source": [
    "for key in train_df.columns:\n",
    "    train_df = train_df[train_df[key].notna()]\n",
    "    noise_df = noise_df[noise_df[key].notna()]\n",
    "print(train_df.isnull().sum().sort_values(ascending=False))\n",
    "print(train_df.shape)\n",
    "print(train_df.columns)\n",
    "print(train_df.info())\n",
    "# print(train_df.isnull())\n",
    "print(train_df.isnull().sum().sort_values(ascending=False))"
   ]
  },
  {
   "cell_type": "code",
   "execution_count": 5,
   "metadata": {},
   "outputs": [],
   "source": [
    "def onehot(df : pd.DataFrame,keyName : str) -> pd.DataFrame:\n",
    "    for key in df[keyName].value_counts().index:\n",
    "        newKey = f\"{keyName}_{key}\"\n",
    "        df[newKey] = df[keyName] == key\n",
    "        df[newKey] = df[newKey].astype(int)\n",
    "    return df.drop(keyName, axis=1)\n",
    "def mapValue(df : pd.DataFrame,keyName : str) -> pd.DataFrame:\n",
    "    mapDict = {}\n",
    "    for idx, key in enumerate(df[keyName].value_counts().index):\n",
    "        mapDict[key] = idx\n",
    "    print(mapDict)\n",
    "    df[keyName] = df[keyName].map(mapDict)\n",
    "    return df"
   ]
  },
  {
   "cell_type": "code",
   "execution_count": 6,
   "metadata": {},
   "outputs": [],
   "source": [
    "\n",
    "def processData(df, isTrain = True):\n",
    "    if isTrain:\n",
    "        label = \"Transported\"\n",
    "        df[label] = df[label].astype(int)\n",
    "        df = df.drop([\"PassengerId\"], axis=1)\n",
    "    # df[\"UnknowAge\"] = df[\"Age\"].isnull().astype(int)\n",
    "    df[\"UnkownCabin\"] = df[\"Cabin\"].isnull().astype(int)\n",
    "    df[\"UnkownHomePlanet\"] = df[\"HomePlanet\"].isnull().astype(int)\n",
    "    df[\"UnkownDestination\"] = df[\"Destination\"].isnull().astype(int)\n",
    "    df[\"UnknowVIP\"] = df[\"VIP\"].isnull().astype(int)\n",
    "    df[\"UnkownCryoSleep\"] = df[\"CryoSleep\"].isnull().astype(int)\n",
    "    fillnaList = [\"VIP\",\"CryoSleep\",\"Cabin\"]\n",
    "    df[fillnaList] = df[fillnaList].fillna(0)\n",
    "    df[\"HomePlanet\"] = df[\"HomePlanet\"].fillna(\"Earth\")\n",
    "    df[\"Destination\"] = df[\"Destination\"].fillna(\"TRAPPIST-1e\")\n",
    "    \n",
    "    df['VIP'] = df['VIP'].astype(int)\n",
    "    df['CryoSleep'] = df['CryoSleep'].astype(int)\n",
    "    df[[\"Deck\", \"Cabin_num\", \"Side\"]] = df[\"Cabin\"].str.split(\"/\", expand=True)\n",
    "    df = onehot(df,\"HomePlanet\")\n",
    "    df = onehot(df,\"Destination\")\n",
    "    df = onehot(df,\"Deck\")\n",
    "    df = onehot(df,\"Side\")\n",
    "    df = df.drop([\"Cabin\",\"Cabin_num\"], axis=1)\n",
    "    return df\n",
    "\n"
   ]
  },
  {
   "cell_type": "code",
   "execution_count": 7,
   "metadata": {},
   "outputs": [
    {
     "name": "stdout",
     "output_type": "stream",
     "text": [
      "Destination    714\n",
      "HomePlanet     689\n",
      "VIP            652\n",
      "Cabin          649\n",
      "CryoSleep      634\n",
      "dtype: int64\n",
      "(7736, 5)\n",
      "Index(['HomePlanet', 'CryoSleep', 'Cabin', 'Destination', 'VIP'], dtype='object')\n",
      "<class 'pandas.core.frame.DataFrame'>\n",
      "Index: 7736 entries, 0 to 8692\n",
      "Data columns (total 5 columns):\n",
      " #   Column       Non-Null Count  Dtype \n",
      "---  ------       --------------  ----- \n",
      " 0   HomePlanet   7047 non-null   object\n",
      " 1   CryoSleep    7102 non-null   object\n",
      " 2   Cabin        7087 non-null   object\n",
      " 3   Destination  7022 non-null   object\n",
      " 4   VIP          7084 non-null   object\n",
      "dtypes: object(5)\n",
      "memory usage: 620.7+ KB\n",
      "None\n",
      "Destination    714\n",
      "HomePlanet     689\n",
      "VIP            652\n",
      "Cabin          649\n",
      "CryoSleep      634\n",
      "dtype: int64\n"
     ]
    }
   ],
   "source": [
    "# random add nan in train_df\n",
    "keep = noise_df[\"Transported\"]\n",
    "keepB = noise_df[\"PassengerId\"]\n",
    "noise_df = noise_df.drop([\"Transported\",\"PassengerId\"], axis=1)\n",
    "for key in noise_df.columns:\n",
    "    for i in range(7572):\n",
    "        if np.random.randint(0,100) < 10:\n",
    "            noise_df[key][i] = pd.NA\n",
    "print(noise_df.isnull().sum().sort_values(ascending=False))\n",
    "print(noise_df.shape)\n",
    "print(noise_df.columns)\n",
    "print(noise_df.info())\n",
    "# print(train_df.isnull())\n",
    "print(noise_df.isnull().sum().sort_values(ascending=False))\n",
    "noise_df[\"Transported\"] = keep\n",
    "noise_df[\"PassengerId\"] = keepB\n",
    "noise_df = processData(noise_df,True)\n",
    "noise_df.to_csv(\"./dataset/train_noise.csv\", index=False)\n",
    "\n"
   ]
  },
  {
   "cell_type": "code",
   "execution_count": 8,
   "metadata": {},
   "outputs": [],
   "source": [
    "train_df = processData(train_df, isTrain=True)\n",
    "train_raw_df = processData(train_raw_df, isTrain=True)\n",
    "train_null_df = processData(train_null_df, isTrain=False)\n",
    "train_raw_df.to_csv(\"./dataset/train_raw_preprocessed.csv\", index=False)\n",
    "train_df.to_csv(\"./dataset/train_preprocessed_clean.csv\", index=False)\n",
    "train_null_df.to_csv(\"./dataset/test_preprocessed.csv\", index=False)"
   ]
  }
 ],
 "metadata": {
  "kernelspec": {
   "display_name": ".venv",
   "language": "python",
   "name": "python3"
  },
  "language_info": {
   "codemirror_mode": {
    "name": "ipython",
    "version": 3
   },
   "file_extension": ".py",
   "mimetype": "text/x-python",
   "name": "python",
   "nbconvert_exporter": "python",
   "pygments_lexer": "ipython3",
   "version": "3.11.0"
  }
 },
 "nbformat": 4,
 "nbformat_minor": 2
}
